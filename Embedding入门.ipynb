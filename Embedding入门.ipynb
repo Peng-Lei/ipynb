{
  "nbformat": 4,
  "nbformat_minor": 0,
  "metadata": {
    "colab": {
      "provenance": [],
      "toc_visible": true,
      "authorship_tag": "ABX9TyOO8Bld9Sl4IDPd1MNpw2S5",
      "include_colab_link": true
    },
    "kernelspec": {
      "name": "python3",
      "display_name": "Python 3"
    },
    "language_info": {
      "name": "python"
    }
  },
  "cells": [
    {
      "cell_type": "markdown",
      "metadata": {
        "id": "view-in-github",
        "colab_type": "text"
      },
      "source": [
        "<a href=\"https://colab.research.google.com/github/Peng-Lei/ipynb/blob/main/Embedding%E5%85%A5%E9%97%A8.ipynb\" target=\"_parent\"><img src=\"https://colab.research.google.com/assets/colab-badge.svg\" alt=\"Open In Colab\"/></a>"
      ]
    },
    {
      "cell_type": "markdown",
      "source": [
        "#本文主要介绍如何搭建本地的Embedding模型\n",
        "\n",
        "在大多数Blog以及向量DB的使用样例中，大家都是用OpenAIEmbeddings\n",
        "\n",
        "虽然OpenAI Embeddings API提供了一种方便、高效的方式来生成文本表示，关键是它收费啊，而且依赖网络。所以构建一个本地的Embedding服务很有必要"
      ],
      "metadata": {
        "id": "XXlnc3-SBUbN"
      }
    },
    {
      "cell_type": "markdown",
      "source": [
        "#安装Embedding\n",
        "通过pip安装依赖\n",
        "InstructorEmbedding\n",
        "sentence_transformers"
      ],
      "metadata": {
        "id": "lDz9NunrAa2i"
      }
    },
    {
      "cell_type": "code",
      "source": [
        "!pip install InstructorEmbedding\n",
        "!pip install sentence_transformers"
      ],
      "metadata": {
        "id": "LPF-jUHoAq_m"
      },
      "execution_count": null,
      "outputs": []
    },
    {
      "cell_type": "markdown",
      "source": [
        "#使用hkunlp/instructor-large模型\n",
        "从https://huggingface.co/spaces/mteb/leaderboard上看\n",
        "instructor-large排名13，还可以关键是开源"
      ],
      "metadata": {
        "id": "suZ4f2j-BKpp"
      }
    },
    {
      "cell_type": "code",
      "source": [
        "from InstructorEmbedding import INSTRUCTOR\n",
        "model = INSTRUCTOR('hkunlp/instructor-large')\n",
        "sentence = \"I am Peng Lei\"\n",
        "instruction = \"Represent the Science title:\"\n",
        "embeddings = model.encode([[instruction, sentence]])\n",
        "print(embeddings)"
      ],
      "metadata": {
        "id": "wTBo2aDTDRAf"
      },
      "execution_count": null,
      "outputs": []
    },
    {
      "cell_type": "markdown",
      "source": [
        "这个仅仅是演示了通过本地的Embeddings模型进行向量化，并没有展示如何跟LangChain集成"
      ],
      "metadata": {
        "id": "Fi6x_GGyEcw2"
      }
    },
    {
      "cell_type": "markdown",
      "source": [
        "#与LangChain集成\n",
        "LangChain是一个优秀的大模型应用框架，但是基本上所有的Example都使用了OpenAIEmbeddings()\n",
        "\n",
        "现在我们将OpenAIEmbeddings()替换成本地的Sentence Embedding\n",
        "\n",
        "其实只需要一行代码修改：\n",
        "embedding = OpenAIEmbeddings()\n",
        "替换成\n",
        "embedding = HuggingFaceInstructEmbeddings()\n",
        "\n",
        "上面将数据Embedding后就可以调用DB Vector进行保存了"
      ],
      "metadata": {
        "id": "AQfhsnGBE8o9"
      }
    },
    {
      "cell_type": "markdown",
      "source": [
        "##替换Model\n",
        "在LangChain替换模型是一个比较简单的操作\n",
        "LangChain开发了HuggingFaceInstructEmbeddings接口用于加载模型\n",
        "我们只需要更换其参数model_name即可"
      ],
      "metadata": {
        "id": "2ayRIuhwGols"
      }
    },
    {
      "cell_type": "code",
      "source": [
        "!pip install langchain"
      ],
      "metadata": {
        "id": "oRMSk1DKHmpv"
      },
      "execution_count": null,
      "outputs": []
    },
    {
      "cell_type": "code",
      "source": [
        "from langchain.embeddings import HuggingFaceInstructEmbeddings\n",
        "embedding = HuggingFaceInstructEmbeddings(model_name='hkunlp/instructor-xl')"
      ],
      "metadata": {
        "id": "HimTeVT9HAVI"
      },
      "execution_count": null,
      "outputs": []
    },
    {
      "cell_type": "markdown",
      "source": [
        "#哪个Model更适合中文环境\n",
        "instructor-large中文表现不佳\n",
        "那我们就直接找Chinese Sentence Embeddings Model\n",
        "\n",
        "https://huggingface.co/shibing624/text2vec-base-chinese"
      ],
      "metadata": {
        "id": "d4j73HbbIElT"
      }
    },
    {
      "cell_type": "markdown",
      "source": [
        "#对比text2vec-base-chinese和text2vec-base-chinese\n",
        "\n",
        "先进行数据加载"
      ],
      "metadata": {
        "id": "RQZjfzsqJOG1"
      }
    },
    {
      "cell_type": "code",
      "source": [
        "!pip install datasets"
      ],
      "metadata": {
        "id": "okWRE6rwJ2WB"
      },
      "execution_count": null,
      "outputs": []
    },
    {
      "cell_type": "code",
      "source": [
        "from datasets import load_dataset\n",
        "dataset = load_dataset(\"shibing624/nli_zh\",\"STS-B\")\n",
        "for i in range(10):\n",
        "    print(dataset['test'][i])"
      ],
      "metadata": {
        "id": "quFAIVlYJYMi"
      },
      "execution_count": null,
      "outputs": []
    },
    {
      "cell_type": "markdown",
      "source": [
        "编写代码对比text2vec-base-chinese、instructor-large两个model在中文情况下的表现"
      ],
      "metadata": {
        "id": "ChSv_btKKC5_"
      }
    },
    {
      "cell_type": "code",
      "source": [
        "!pip install sentence-transformers"
      ],
      "metadata": {
        "id": "GDqzMGH9Ll5S"
      },
      "execution_count": null,
      "outputs": []
    },
    {
      "cell_type": "code",
      "source": [
        "from sentence_transformers import SentenceTransformer\n",
        "from sentence_transformers import util"
      ],
      "metadata": {
        "id": "qjVbbSXGLpBQ"
      },
      "execution_count": null,
      "outputs": []
    },
    {
      "cell_type": "code",
      "source": [
        "model1 = SentenceTransformer(\"shibing624/text2vec-base-chinese\")\n",
        "model2 = INSTRUCTOR(\"hkunlp/instructor-large\")\n",
        "\n",
        "for i in range(10):\n",
        "  data = dataset['test'][i]\n",
        "  print(data)\n",
        "  sentence1 = data['sentence1']\n",
        "  sentence2 = data['sentence2']\n",
        "  print(\"text2vec-base-chinese 测试\", util.cos_sim(model1.encode(sentence1), model1.encode(sentence2)))\n",
        "  print(\"instructor-large 测试\", util.cos_sim(model2.encode(sentence1), model2.encode(sentence2)))"
      ],
      "metadata": {
        "id": "JSP5M3N7KNrr"
      },
      "execution_count": null,
      "outputs": []
    },
    {
      "cell_type": "markdown",
      "source": [
        "#把model下载到本地\n",
        "\n",
        "运行程序的时候，每次都远程下载Model，对于本地应用来说，是比较麻烦耗时的操作\n",
        "\n",
        "最好是下载到本地，然后通过全路径加载\n",
        "embedding = HuggingFaceEmbeddings(model_name='./huggingface/shibing624_text2vec-base-chinese')"
      ],
      "metadata": {
        "id": "Fp-Y8Uu5MZIV"
      }
    }
  ]
}